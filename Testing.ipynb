{
 "cells": [
  {
   "cell_type": "code",
   "execution_count": 19,
   "id": "0fcb3ce5-9722-4239-8c77-0bd30c07a177",
   "metadata": {},
   "outputs": [],
   "source": [
    "import argparse\n",
    "# import logging\n",
    "import torch\n",
    "from glob import glob\n",
    "# import torchaudio\n",
    "# expects seamless_communication dir to exist\n",
    "from seamless_communication.models.inference import Translator\n",
    "import time\n",
    "from tqdm import tqdm"
   ]
  },
  {
   "cell_type": "code",
   "execution_count": 5,
   "id": "5daac541-dbca-42b1-b6bb-2630da478a41",
   "metadata": {},
   "outputs": [],
   "source": [
    "device = torch.device(\"cuda:0\")\n",
    "dtype = torch.float16"
   ]
  },
  {
   "cell_type": "code",
   "execution_count": 6,
   "id": "caa9fcfd-db1e-4d1a-a562-330f0b109c29",
   "metadata": {},
   "outputs": [
    {
     "name": "stderr",
     "output_type": "stream",
     "text": [
      "Using the cached checkpoint of the model 'seamlessM4T_large'. Set `force=True` to download again.\n",
      "Using the cached tokenizer of the model 'seamlessM4T_large'. Set `force=True` to download again.\n",
      "Using the cached checkpoint of the model 'vocoder_36langs'. Set `force=True` to download again.\n"
     ]
    }
   ],
   "source": [
    "translator = Translator(\"seamlessM4T_large\", \"vocoder_36langs\", device=device, dtype=dtype)"
   ]
  },
  {
   "cell_type": "code",
   "execution_count": null,
   "id": "235af4e3-0583-49bf-bd1d-f4cb10437652",
   "metadata": {},
   "outputs": [],
   "source": []
  },
  {
   "cell_type": "code",
   "execution_count": 15,
   "id": "0d656752-0533-4bd8-a924-b6fc578f93c1",
   "metadata": {},
   "outputs": [
    {
     "name": "stdout",
     "output_type": "stream",
     "text": [
      "task took 2.942699909210205 seconds\n"
     ]
    }
   ],
   "source": [
    "fp = \"/data/unlabelled_data/el/2017/20170116-0900-PLENARY-11_el_0.ogg\"\n",
    "lang = 'ell'\n",
    "task = \"s2tt\"\n",
    "start_time = time.time()\n",
    "translator.predict(input=fp, task_str=task, tgt_lang=lang)\n",
    "print(f\"task took {time.time() - start_time} seconds\")"
   ]
  },
  {
   "cell_type": "code",
   "execution_count": 20,
   "id": "8f641f83-5b9b-4dad-8afe-31b836146274",
   "metadata": {},
   "outputs": [
    {
     "name": "stderr",
     "output_type": "stream",
     "text": [
      "  5%|██▏                                         | 1/20 [00:01<00:31,  1.66s/it]"
     ]
    },
    {
     "name": "stdout",
     "output_type": "stream",
     "text": [
      "(Χειροκρότημα)\n"
     ]
    },
    {
     "name": "stderr",
     "output_type": "stream",
     "text": [
      " 10%|████▍                                       | 2/20 [00:05<00:50,  2.82s/it]"
     ]
    },
    {
     "name": "stdout",
     "output_type": "stream",
     "text": [
      "Μετά την παραίτηση της κ. Ιλιάνα Γιοτόβα, η οποία εκλέχθηκε αντιπρόεδρο της Βουλής της Βουλής, διαπιστώνουμε ότι η έδρα της είναι από 17 Ιανουαρίου 2017 και ενημερώνουμε τις αρμόδιες εθνικές αρχές. Οι αρμόδιες ισπανικές αρχές με ενημέρωσαν\n"
     ]
    },
    {
     "name": "stderr",
     "output_type": "stream",
     "text": [
      " 15%|██████▌                                     | 3/20 [00:07<00:46,  2.76s/it]"
     ]
    },
    {
     "name": "stdout",
     "output_type": "stream",
     "text": [
      "Η Επιτροπή Νομικών Θεμάτων και Δικαιωμάτων των Πολιτών εξέτασε τις διαπιστώσεις της κ. Alexei Maier και του κ. Timmermans και εξέτασε τις υποχρεώσεις τους από 15 Νοεμβρίου και 14 Νοεμβρίου\n"
     ]
    },
    {
     "name": "stderr",
     "output_type": "stream",
     "text": [
      " 20%|████████▊                                   | 4/20 [00:10<00:45,  2.83s/it]"
     ]
    },
    {
     "name": "stdout",
     "output_type": "stream",
     "text": [
      "Μας έστειλαν αίτηση ακύρωσης της βουλευτικής ασυλίας της κυρίας Μίλερ Τροσίνσκι, στο πλαίσιο μιας δικαστικής έρευνας, όπως και αίτηση ακύρωσης της ασυλίας του κ. Ζαν Μάρι Λεπέν.\n"
     ]
    },
    {
     "name": "stderr",
     "output_type": "stream",
     "text": [
      " 25%|███████████                                 | 5/20 [00:13<00:41,  2.75s/it]"
     ]
    },
    {
     "name": "stdout",
     "output_type": "stream",
     "text": [
      "Με μεγάλη θλίψη πληροφορήθηκα στις 7 Ιανουαρίου το θάνατο του κ. Soares, ο οποίος από το 1990 μέχρι το 2004 ήταν ευρωπαίος βουλευτής και ανήκε στην ομάδα των Σοσιαλιστών και Δημοκρατών.\n"
     ]
    },
    {
     "name": "stderr",
     "output_type": "stream",
     "text": [
      " 30%|█████████████▏                              | 6/20 [00:16<00:39,  2.81s/it]"
     ]
    },
    {
     "name": "stdout",
     "output_type": "stream",
     "text": [
      "Σύμφωνα με το άρθρο 14 παράγραφος 2 του κανονισμού, υπό την προεδρία του Προέδρου του Συμβουλίου δεν μπορεί να διεξαχθεί καμία συζήτηση η οποία δεν αφορά την εκλογή του Προέδρου ή την εξέταση των εντολών του.\n"
     ]
    },
    {
     "name": "stderr",
     "output_type": "stream",
     "text": [
      " 35%|███████████████▍                            | 7/20 [00:19<00:39,  3.05s/it]"
     ]
    },
    {
     "name": "stdout",
     "output_type": "stream",
     "text": [
      "Επίσης, με ενημέρωσαν για την εκλογή του κ. Χόρντι Ζολέ και την εκλογή των δύο συναδέλφων από τον 3ο Ιανουάριο του 2007, οι οποίοι αντικαθίστανται από τον κ. Βιντεγκάιν και τον κ. Μαράγκελ.\n"
     ]
    },
    {
     "name": "stderr",
     "output_type": "stream",
     "text": [
      " 40%|█████████████████▌                          | 8/20 [00:22<00:35,  2.97s/it]"
     ]
    },
    {
     "name": "stdout",
     "output_type": "stream",
     "text": [
      "Οι ελληνικές αρχές με ενημέρωσαν ότι η ποινική διαδικασία κατά του κυρίου Σωτήρη Ζαριάνοπουλου, για την οποία είχε αναληφθεί η ασυλία του, έχει πλέον ολοκληρωθεί και έχει τεθεί σε ισχύ.\n"
     ]
    },
    {
     "name": "stderr",
     "output_type": "stream",
     "text": [
      " 45%|███████████████████▊                        | 9/20 [00:25<00:32,  3.00s/it]"
     ]
    },
    {
     "name": "stdout",
     "output_type": "stream",
     "text": [
      "στη χώρα του ήταν μια ιστορική προσωπικότητα, ο Μάριο Σόουερς, ήταν σύμβουλος της αντιπολίτευσης κατά της δικτατορίας και οπωσδήποτε για τους Πορτογάλους και τους Ευρωπαίους συνολικά.\n"
     ]
    },
    {
     "name": "stderr",
     "output_type": "stream",
     "text": [
      " 50%|█████████████████████▌                     | 10/20 [00:27<00:24,  2.46s/it]"
     ]
    },
    {
     "name": "stdout",
     "output_type": "stream",
     "text": [
      "με τον Κανονισμό να προχωρήσουμε στην εκλογή του Προέδρου.\n"
     ]
    },
    {
     "name": "stderr",
     "output_type": "stream",
     "text": [
      " 55%|███████████████████████▋                   | 11/20 [00:28<00:18,  2.05s/it]"
     ]
    },
    {
     "name": "stdout",
     "output_type": "stream",
     "text": [
      "(Χειροκρότημα)\n"
     ]
    },
    {
     "name": "stderr",
     "output_type": "stream",
     "text": [
      " 60%|█████████████████████████▊                 | 12/20 [00:29<00:15,  1.92s/it]"
     ]
    },
    {
     "name": "stdout",
     "output_type": "stream",
     "text": [
      "με την κοινή γνώμη των υποψηφίων για την υποψηφιότητα ενός βουλευτή ή τουλάχιστον 38 βουλευτών.\n"
     ]
    },
    {
     "name": "stderr",
     "output_type": "stream",
     "text": [
      " 65%|███████████████████████████▉               | 13/20 [00:32<00:13,  1.99s/it]"
     ]
    },
    {
     "name": "stdout",
     "output_type": "stream",
     "text": [
      "αλλαγής στη χώρα του και ένα βασικό κίνητρο για την ένταξή της στην Ευρωπαϊκή Οικονομική Κοινότητα. Η Ευρώπη χάνει έναν μεγάλο πολιτικό άνδρα.\n"
     ]
    },
    {
     "name": "stderr",
     "output_type": "stream",
     "text": [
      " 70%|██████████████████████████████             | 14/20 [00:33<00:10,  1.75s/it]"
     ]
    },
    {
     "name": "stdout",
     "output_type": "stream",
     "text": [
      "(Χειροκρότημα)\n"
     ]
    },
    {
     "name": "stderr",
     "output_type": "stream",
     "text": [
      " 75%|████████████████████████████████▎          | 15/20 [00:35<00:08,  1.79s/it]"
     ]
    },
    {
     "name": "stdout",
     "output_type": "stream",
     "text": [
      "Επαναλαμβάνεται η συνεδρίαση για να σας δώσω τα αποτελέσματα της δεύτερης ψηφοφορίας\n"
     ]
    },
    {
     "name": "stderr",
     "output_type": "stream",
     "text": [
      " 80%|██████████████████████████████████▍        | 16/20 [00:36<00:07,  1.79s/it]"
     ]
    },
    {
     "name": "stdout",
     "output_type": "stream",
     "text": [
      "Κύριε Πρόεδρε, η συνεδρίαση έχει επαναληφθεί. Ξεκινήστε και πάλι τη συνεδρίαση.\n"
     ]
    },
    {
     "name": "stderr",
     "output_type": "stream",
     "text": [
      " 85%|████████████████████████████████████▌      | 17/20 [00:40<00:06,  2.26s/it]"
     ]
    },
    {
     "name": "stdout",
     "output_type": "stream",
     "text": [
      "κατέθεσαν οι υποψήφιοι της κυρίας Eleonora Forenza, της κυρίας Jean Lambert, του κυρίου Jean Epitella, του κυρίου Laurentius Ribeiro, της κυρίας Helga Stevens, του κυρίου Antonio Tajani και του κυρίου Guy Verhofstadt\n"
     ]
    },
    {
     "name": "stderr",
     "output_type": "stream",
     "text": [
      " 90%|██████████████████████████████████████▋    | 18/20 [00:42<00:04,  2.36s/it]"
     ]
    },
    {
     "name": "stdout",
     "output_type": "stream",
     "text": [
      "να τιμήσουμε την πολιτική κληρονομιά του. Από την πλευρά του Ευρωπαϊκού Κοινοβουλίου, θα ήθελα να συγχαρώ την οικογένεια του Mario Soares, τους φίλους του και τους γνωστούς του.\n"
     ]
    },
    {
     "name": "stderr",
     "output_type": "stream",
     "text": [
      " 95%|████████████████████████████████████████▊  | 19/20 [00:43<00:01,  1.98s/it]"
     ]
    },
    {
     "name": "stdout",
     "output_type": "stream",
     "text": [
      "Σωστά. Σωστά.\n"
     ]
    },
    {
     "name": "stderr",
     "output_type": "stream",
     "text": [
      "100%|███████████████████████████████████████████| 20/20 [00:45<00:00,  2.30s/it]"
     ]
    },
    {
     "name": "stdout",
     "output_type": "stream",
     "text": [
      "Σπάνια βρίσκονται οι 750 βουλευτές εδώ. Θα πρέπει να φροντίσουμε να κυκλοφορήσει η διαδικασία χωρίς προβλήματα και με ασφάλεια.\n",
      "task took 46.25819730758667 seconds\n"
     ]
    },
    {
     "name": "stderr",
     "output_type": "stream",
     "text": [
      "\n"
     ]
    }
   ],
   "source": [
    "start_time = time.time()\n",
    "files = glob(\"/data/unlabelled_data/el/2017/*.ogg\")\n",
    "for i in tqdm(files[:20]):\n",
    "    text, _, _ = translator.predict(i, task_str=task, tgt_lang=lang)\n",
    "    print(text)\n",
    "print(f\"task took {time.time() - start_time} seconds\")"
   ]
  },
  {
   "cell_type": "code",
   "execution_count": 22,
   "id": "9d852e3d-f1e9-4033-937c-cfb1aa95078e",
   "metadata": {},
   "outputs": [],
   "source": [
    "all_files=glob(\"/data/unlabelled_data/el/*/*.ogg\")"
   ]
  },
  {
   "cell_type": "code",
   "execution_count": 23,
   "id": "bad1afae-0cdc-46cb-b0ed-3aa3e23b83a4",
   "metadata": {},
   "outputs": [
    {
     "data": {
      "text/plain": [
       "151113"
      ]
     },
     "execution_count": 23,
     "metadata": {},
     "output_type": "execute_result"
    }
   ],
   "source": [
    "len(all_files)"
   ]
  },
  {
   "cell_type": "code",
   "execution_count": 27,
   "id": "65abf9b9-9d90-4ecd-85ad-34251e6d2450",
   "metadata": {},
   "outputs": [
    {
     "data": {
      "text/plain": [
       "device(type='cuda')"
      ]
     },
     "execution_count": 27,
     "metadata": {},
     "output_type": "execute_result"
    }
   ],
   "source": [
    "torch.device(\"cuda\")"
   ]
  },
  {
   "cell_type": "code",
   "execution_count": 36,
   "id": "5cd9b0b0-7ec5-4ceb-a527-fa79dcc169ad",
   "metadata": {},
   "outputs": [
    {
     "data": {
      "text/plain": [
       "True"
      ]
     },
     "execution_count": 36,
     "metadata": {},
     "output_type": "execute_result"
    }
   ],
   "source": [
    "torch.cuda.is_available()"
   ]
  },
  {
   "cell_type": "markdown",
   "id": "bb9f8b19-5e65-4e18-9e49-3041225f936c",
   "metadata": {},
   "source": [
    "# Seamless from huggingface"
   ]
  },
  {
   "cell_type": "code",
   "execution_count": 1,
   "id": "4dc18934-9f94-4e83-baf4-9d69d6fbd8e5",
   "metadata": {},
   "outputs": [],
   "source": [
    "from glob import glob\n",
    "import torch\n",
    "from tqdm import tqdm\n",
    "import time"
   ]
  },
  {
   "cell_type": "code",
   "execution_count": 2,
   "id": "f30fc502-e65e-4c8a-8613-e7562858c0c1",
   "metadata": {},
   "outputs": [
    {
     "name": "stderr",
     "output_type": "stream",
     "text": [
      "/opt/conda/lib/python3.10/site-packages/tqdm/auto.py:22: TqdmWarning: IProgress not found. Please update jupyter and ipywidgets. See https://ipywidgets.readthedocs.io/en/stable/user_install.html\n",
      "  from .autonotebook import tqdm as notebook_tqdm\n",
      "/opt/conda/lib/python3.10/site-packages/transformers/deepspeed.py:23: FutureWarning: transformers.deepspeed module is deprecated and will be removed in a future version. Please import deepspeed modules directly from transformers.integrations\n",
      "  warnings.warn(\n"
     ]
    }
   ],
   "source": [
    "from transformers import SeamlessM4TForSpeechToText"
   ]
  },
  {
   "cell_type": "code",
   "execution_count": 3,
   "id": "33b2aa83-d5f6-4453-8939-42bf24ea38f5",
   "metadata": {},
   "outputs": [],
   "source": [
    "model = SeamlessM4TForSpeechToText.from_pretrained(\"facebook/hf-seamless-m4t-large\")"
   ]
  },
  {
   "cell_type": "code",
   "execution_count": 4,
   "id": "ef6dc59c-a812-4e4e-854f-464681e8b8e1",
   "metadata": {},
   "outputs": [],
   "source": [
    "from transformers import AutoProcessor"
   ]
  },
  {
   "cell_type": "code",
   "execution_count": 5,
   "id": "363404e5-6f92-4246-a1c3-3438919e2d7f",
   "metadata": {},
   "outputs": [
    {
     "name": "stderr",
     "output_type": "stream",
     "text": [
      "Special tokens have been added in the vocabulary, make sure the associated word embeddings are fine-tuned or trained.\n",
      "Special tokens have been added in the vocabulary, make sure the associated word embeddings are fine-tuned or trained.\n"
     ]
    }
   ],
   "source": [
    "processor = AutoProcessor.from_pretrained(\"facebook/hf-seamless-m4t-large\")"
   ]
  },
  {
   "cell_type": "code",
   "execution_count": 6,
   "id": "8535459b-ff84-495b-852a-174ed021c402",
   "metadata": {},
   "outputs": [],
   "source": [
    "import torch"
   ]
  },
  {
   "cell_type": "code",
   "execution_count": 7,
   "id": "a6656609-d550-4d7b-8dc6-c02ca6eccdf2",
   "metadata": {},
   "outputs": [],
   "source": [
    "model = model.to(torch.device(\"cuda\"))"
   ]
  },
  {
   "cell_type": "code",
   "execution_count": 9,
   "id": "a4bfc8e7-dd9c-44a8-abd3-e72c4bafe150",
   "metadata": {},
   "outputs": [],
   "source": [
    "fp = \"/data/unlabelled_data/el/2017/20170116-0900-PLENARY-11_el_0.ogg\""
   ]
  },
  {
   "cell_type": "code",
   "execution_count": 10,
   "id": "baa29232-6f09-41ae-ab9a-bed2189dcd3a",
   "metadata": {},
   "outputs": [
    {
     "name": "stdout",
     "output_type": "stream",
     "text": [
      "There are 271197 files\n"
     ]
    }
   ],
   "source": [
    "all_files=glob(\"/data/unlabelled_data/el/*/*.ogg\")\n",
    "print(f\"There are {len(all_files)} files\")\n",
    "fps = all_files[:50]"
   ]
  },
  {
   "cell_type": "code",
   "execution_count": 11,
   "id": "f7793849-93f5-4a47-a22f-3068c6ea767c",
   "metadata": {},
   "outputs": [],
   "source": [
    "# custom dataset work:\n",
    "from datasets import load_dataset, Audio, Dataset\n",
    "\n",
    "audio_dataset = Dataset.from_dict({\"audio\": fps}).cast_column(\"audio\", Audio(sampling_rate=16000))"
   ]
  },
  {
   "cell_type": "markdown",
   "id": "5ff1eb4e-d09b-448c-911b-999e1054086a",
   "metadata": {},
   "source": [
    "batchsize=10\n",
    "for b in range(len(audio_dataset)//batchsize):\n",
    "    print(len(audio_dataset[b*batchsize:(b+1)*batchsize]))\n",
    "    "
   ]
  },
  {
   "cell_type": "markdown",
   "id": "33fe3af8-473d-4782-8842-ff32e0c11f64",
   "metadata": {},
   "source": [
    "for p in audio_dataset[0:10]['audio']:\n",
    "    print(len(p['array']))"
   ]
  },
  {
   "cell_type": "code",
   "execution_count": 12,
   "id": "3fb05cba-40e0-4b19-9ff5-7edd30d89f74",
   "metadata": {},
   "outputs": [],
   "source": [
    "audios = audio_dataset[0:10][\"audio\"]"
   ]
  },
  {
   "cell_type": "code",
   "execution_count": 13,
   "id": "1b3852ce-9c98-43b9-9904-86d169046153",
   "metadata": {},
   "outputs": [],
   "source": [
    "audios = [a['array'] for a in audio_dataset[0:5][\"audio\"]]"
   ]
  },
  {
   "cell_type": "code",
   "execution_count": 14,
   "id": "5fd3a4e7-7d5e-42c9-a250-13b24b29287a",
   "metadata": {},
   "outputs": [],
   "source": [
    "single_audio = next(iter(audio_dataset))['audio']['array']"
   ]
  },
  {
   "cell_type": "code",
   "execution_count": 63,
   "id": "29bdc8ed-b347-4c46-ab37-820ce7a43fd5",
   "metadata": {},
   "outputs": [],
   "source": [
    "proc = processor(audios=audios, return_tensors='pt', tgt_lang='ell', padding=True, truncate=True, sampling_rate=16000)\n",
    "# proc = processor(audios=single_audio,  return_tensors='pt', tgt_lang='ell', padding=True, truncate=True, requires_grad=False)"
   ]
  },
  {
   "cell_type": "code",
   "execution_count": 64,
   "id": "31ee5a59-3a81-4bb1-a287-51e933932091",
   "metadata": {},
   "outputs": [
    {
     "data": {
      "text/plain": [
       "dict_keys(['input_features', 'attention_mask'])"
      ]
     },
     "execution_count": 64,
     "metadata": {},
     "output_type": "execute_result"
    }
   ],
   "source": [
    "proc.keys()"
   ]
  },
  {
   "cell_type": "code",
   "execution_count": 65,
   "id": "19fb64da-d2c9-4d90-ba4b-a18f3dadd1f9",
   "metadata": {},
   "outputs": [
    {
     "data": {
      "text/plain": [
       "torch.Size([5, 1499, 160])"
      ]
     },
     "execution_count": 65,
     "metadata": {},
     "output_type": "execute_result"
    }
   ],
   "source": [
    "proc['input_features'].shape"
   ]
  },
  {
   "cell_type": "code",
   "execution_count": 66,
   "id": "d10f9d6e-b292-4091-83ca-b06e166e9de0",
   "metadata": {},
   "outputs": [],
   "source": [
    "proc = proc.to('cuda')"
   ]
  },
  {
   "cell_type": "code",
   "execution_count": 69,
   "id": "f74e6635-efce-4429-b436-075894171f5c",
   "metadata": {},
   "outputs": [],
   "source": [
    "out = model.generate(input_features=proc['input_features'], tgt_lang='ell')"
   ]
  },
  {
   "cell_type": "code",
   "execution_count": 61,
   "id": "b4e34de1-cda5-490c-a042-db87e5842207",
   "metadata": {},
   "outputs": [
    {
     "data": {
      "text/plain": [
       "'βάσει του άρθρου 233 του κανονισμού και γίνεται αποδεκτή η τροποποίηση αυτή.'"
      ]
     },
     "execution_count": 61,
     "metadata": {},
     "output_type": "execute_result"
    }
   ],
   "source": [
    "processor.decode(out.tolist()[0], skip_special_tokens=True)"
   ]
  },
  {
   "cell_type": "code",
   "execution_count": 70,
   "id": "a459a0a3-f5a6-45fe-a1d0-39ec50757141",
   "metadata": {},
   "outputs": [
    {
     "data": {
      "text/plain": [
       "['βάσει του άρθρου 233 του κανονισμού και γίνεται αποδεκτή η τροποποίηση αυτή.',\n",
       " 'συνεδρίαση. Τώρα θα έρθουμε στο θέμα της συνεδρίασης για την επόμενη εβδομάδα, βάσει του άρθρου',\n",
       " 'πρότεινε το εξής και μάλιστα από τους συντονιστές της ομάδας της κ. Λουγκάου, για τις συμφωνίες σύνδεσης και σταθεροποίησης για το Κοσσυφοπέδιο και την δήλωση του Προέδρου για τις συνομιλίες',\n",
       " 'για τις συμφωνίες σύνδεσης με τη Γεωργία, τη Μολδαβία και την Ουκρανία και θα τις ολοκληρώσετε με την Ευρωπαϊκή Ένωση.',\n",
       " 'Κύριε Πρόεδρε, πριν δηλώσουμε την τάξη του χρόνου, θα ήθελα να πω το εξής στην σύνοδο των Προέδρων συζητήσαμε την προηγούμενη εβδομάδα την κατάσταση της Δανίας.']"
      ]
     },
     "execution_count": 70,
     "metadata": {},
     "output_type": "execute_result"
    }
   ],
   "source": [
    "processor.batch_decode(out, skip_special_tokens=True)"
   ]
  },
  {
   "cell_type": "code",
   "execution_count": null,
   "id": "230d5a11-1037-41a9-a0b5-77505c571be5",
   "metadata": {},
   "outputs": [],
   "source": [
    "def transcribe(n=100, bs):\n",
    "    print(f\"Starting data loading\")\n",
    "    start_time=time.time()\n",
    "    audios = "
   ]
  }
 ],
 "metadata": {
  "kernelspec": {
   "display_name": "Python 3 (ipykernel)",
   "language": "python",
   "name": "python3"
  },
  "language_info": {
   "codemirror_mode": {
    "name": "ipython",
    "version": 3
   },
   "file_extension": ".py",
   "mimetype": "text/x-python",
   "name": "python",
   "nbconvert_exporter": "python",
   "pygments_lexer": "ipython3",
   "version": "3.10.9"
  }
 },
 "nbformat": 4,
 "nbformat_minor": 5
}
