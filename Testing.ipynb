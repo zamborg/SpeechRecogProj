{
 "cells": [
  {
   "cell_type": "code",
   "execution_count": 19,
   "id": "0fcb3ce5-9722-4239-8c77-0bd30c07a177",
   "metadata": {},
   "outputs": [],
   "source": [
    "import argparse\n",
    "# import logging\n",
    "import torch\n",
    "from glob import glob\n",
    "# import torchaudio\n",
    "# expects seamless_communication dir to exist\n",
    "from seamless_communication.models.inference import Translator\n",
    "import time\n",
    "from tqdm import tqdm"
   ]
  },
  {
   "cell_type": "code",
   "execution_count": 5,
   "id": "5daac541-dbca-42b1-b6bb-2630da478a41",
   "metadata": {},
   "outputs": [],
   "source": [
    "device = torch.device(\"cuda:0\")\n",
    "dtype = torch.float16"
   ]
  },
  {
   "cell_type": "code",
   "execution_count": 6,
   "id": "caa9fcfd-db1e-4d1a-a562-330f0b109c29",
   "metadata": {},
   "outputs": [
    {
     "name": "stderr",
     "output_type": "stream",
     "text": [
      "Using the cached checkpoint of the model 'seamlessM4T_large'. Set `force=True` to download again.\n",
      "Using the cached tokenizer of the model 'seamlessM4T_large'. Set `force=True` to download again.\n",
      "Using the cached checkpoint of the model 'vocoder_36langs'. Set `force=True` to download again.\n"
     ]
    }
   ],
   "source": [
    "translator = Translator(\"seamlessM4T_large\", \"vocoder_36langs\", device=device, dtype=dtype)"
   ]
  },
  {
   "cell_type": "code",
   "execution_count": null,
   "id": "235af4e3-0583-49bf-bd1d-f4cb10437652",
   "metadata": {},
   "outputs": [],
   "source": []
  },
  {
   "cell_type": "code",
   "execution_count": 15,
   "id": "0d656752-0533-4bd8-a924-b6fc578f93c1",
   "metadata": {},
   "outputs": [
    {
     "name": "stdout",
     "output_type": "stream",
     "text": [
      "task took 2.942699909210205 seconds\n"
     ]
    }
   ],
   "source": [
    "fp = \"/data/unlabelled_data/el/2017/20170116-0900-PLENARY-11_el_0.ogg\"\n",
    "lang = 'ell'\n",
    "task = \"s2tt\"\n",
    "start_time = time.time()\n",
    "translator.predict(input=fp, task_str=task, tgt_lang=lang)\n",
    "print(f\"task took {time.time() - start_time} seconds\")"
   ]
  },
  {
   "cell_type": "code",
   "execution_count": 20,
   "id": "8f641f83-5b9b-4dad-8afe-31b836146274",
   "metadata": {},
   "outputs": [
    {
     "name": "stderr",
     "output_type": "stream",
     "text": [
      "  5%|██▏                                         | 1/20 [00:01<00:31,  1.66s/it]"
     ]
    },
    {
     "name": "stdout",
     "output_type": "stream",
     "text": [
      "(Χειροκρότημα)\n"
     ]
    },
    {
     "name": "stderr",
     "output_type": "stream",
     "text": [
      " 10%|████▍                                       | 2/20 [00:05<00:50,  2.82s/it]"
     ]
    },
    {
     "name": "stdout",
     "output_type": "stream",
     "text": [
      "Μετά την παραίτηση της κ. Ιλιάνα Γιοτόβα, η οποία εκλέχθηκε αντιπρόεδρο της Βουλής της Βουλής, διαπιστώνουμε ότι η έδρα της είναι από 17 Ιανουαρίου 2017 και ενημερώνουμε τις αρμόδιες εθνικές αρχές. Οι αρμόδιες ισπανικές αρχές με ενημέρωσαν\n"
     ]
    },
    {
     "name": "stderr",
     "output_type": "stream",
     "text": [
      " 15%|██████▌                                     | 3/20 [00:07<00:46,  2.76s/it]"
     ]
    },
    {
     "name": "stdout",
     "output_type": "stream",
     "text": [
      "Η Επιτροπή Νομικών Θεμάτων και Δικαιωμάτων των Πολιτών εξέτασε τις διαπιστώσεις της κ. Alexei Maier και του κ. Timmermans και εξέτασε τις υποχρεώσεις τους από 15 Νοεμβρίου και 14 Νοεμβρίου\n"
     ]
    },
    {
     "name": "stderr",
     "output_type": "stream",
     "text": [
      " 20%|████████▊                                   | 4/20 [00:10<00:45,  2.83s/it]"
     ]
    },
    {
     "name": "stdout",
     "output_type": "stream",
     "text": [
      "Μας έστειλαν αίτηση ακύρωσης της βουλευτικής ασυλίας της κυρίας Μίλερ Τροσίνσκι, στο πλαίσιο μιας δικαστικής έρευνας, όπως και αίτηση ακύρωσης της ασυλίας του κ. Ζαν Μάρι Λεπέν.\n"
     ]
    },
    {
     "name": "stderr",
     "output_type": "stream",
     "text": [
      " 25%|███████████                                 | 5/20 [00:13<00:41,  2.75s/it]"
     ]
    },
    {
     "name": "stdout",
     "output_type": "stream",
     "text": [
      "Με μεγάλη θλίψη πληροφορήθηκα στις 7 Ιανουαρίου το θάνατο του κ. Soares, ο οποίος από το 1990 μέχρι το 2004 ήταν ευρωπαίος βουλευτής και ανήκε στην ομάδα των Σοσιαλιστών και Δημοκρατών.\n"
     ]
    },
    {
     "name": "stderr",
     "output_type": "stream",
     "text": [
      " 30%|█████████████▏                              | 6/20 [00:16<00:39,  2.81s/it]"
     ]
    },
    {
     "name": "stdout",
     "output_type": "stream",
     "text": [
      "Σύμφωνα με το άρθρο 14 παράγραφος 2 του κανονισμού, υπό την προεδρία του Προέδρου του Συμβουλίου δεν μπορεί να διεξαχθεί καμία συζήτηση η οποία δεν αφορά την εκλογή του Προέδρου ή την εξέταση των εντολών του.\n"
     ]
    },
    {
     "name": "stderr",
     "output_type": "stream",
     "text": [
      " 35%|███████████████▍                            | 7/20 [00:19<00:39,  3.05s/it]"
     ]
    },
    {
     "name": "stdout",
     "output_type": "stream",
     "text": [
      "Επίσης, με ενημέρωσαν για την εκλογή του κ. Χόρντι Ζολέ και την εκλογή των δύο συναδέλφων από τον 3ο Ιανουάριο του 2007, οι οποίοι αντικαθίστανται από τον κ. Βιντεγκάιν και τον κ. Μαράγκελ.\n"
     ]
    },
    {
     "name": "stderr",
     "output_type": "stream",
     "text": [
      " 40%|█████████████████▌                          | 8/20 [00:22<00:35,  2.97s/it]"
     ]
    },
    {
     "name": "stdout",
     "output_type": "stream",
     "text": [
      "Οι ελληνικές αρχές με ενημέρωσαν ότι η ποινική διαδικασία κατά του κυρίου Σωτήρη Ζαριάνοπουλου, για την οποία είχε αναληφθεί η ασυλία του, έχει πλέον ολοκληρωθεί και έχει τεθεί σε ισχύ.\n"
     ]
    },
    {
     "name": "stderr",
     "output_type": "stream",
     "text": [
      " 45%|███████████████████▊                        | 9/20 [00:25<00:32,  3.00s/it]"
     ]
    },
    {
     "name": "stdout",
     "output_type": "stream",
     "text": [
      "στη χώρα του ήταν μια ιστορική προσωπικότητα, ο Μάριο Σόουερς, ήταν σύμβουλος της αντιπολίτευσης κατά της δικτατορίας και οπωσδήποτε για τους Πορτογάλους και τους Ευρωπαίους συνολικά.\n"
     ]
    },
    {
     "name": "stderr",
     "output_type": "stream",
     "text": [
      " 50%|█████████████████████▌                     | 10/20 [00:27<00:24,  2.46s/it]"
     ]
    },
    {
     "name": "stdout",
     "output_type": "stream",
     "text": [
      "με τον Κανονισμό να προχωρήσουμε στην εκλογή του Προέδρου.\n"
     ]
    },
    {
     "name": "stderr",
     "output_type": "stream",
     "text": [
      " 55%|███████████████████████▋                   | 11/20 [00:28<00:18,  2.05s/it]"
     ]
    },
    {
     "name": "stdout",
     "output_type": "stream",
     "text": [
      "(Χειροκρότημα)\n"
     ]
    },
    {
     "name": "stderr",
     "output_type": "stream",
     "text": [
      " 60%|█████████████████████████▊                 | 12/20 [00:29<00:15,  1.92s/it]"
     ]
    },
    {
     "name": "stdout",
     "output_type": "stream",
     "text": [
      "με την κοινή γνώμη των υποψηφίων για την υποψηφιότητα ενός βουλευτή ή τουλάχιστον 38 βουλευτών.\n"
     ]
    },
    {
     "name": "stderr",
     "output_type": "stream",
     "text": [
      " 65%|███████████████████████████▉               | 13/20 [00:32<00:13,  1.99s/it]"
     ]
    },
    {
     "name": "stdout",
     "output_type": "stream",
     "text": [
      "αλλαγής στη χώρα του και ένα βασικό κίνητρο για την ένταξή της στην Ευρωπαϊκή Οικονομική Κοινότητα. Η Ευρώπη χάνει έναν μεγάλο πολιτικό άνδρα.\n"
     ]
    },
    {
     "name": "stderr",
     "output_type": "stream",
     "text": [
      " 70%|██████████████████████████████             | 14/20 [00:33<00:10,  1.75s/it]"
     ]
    },
    {
     "name": "stdout",
     "output_type": "stream",
     "text": [
      "(Χειροκρότημα)\n"
     ]
    },
    {
     "name": "stderr",
     "output_type": "stream",
     "text": [
      " 75%|████████████████████████████████▎          | 15/20 [00:35<00:08,  1.79s/it]"
     ]
    },
    {
     "name": "stdout",
     "output_type": "stream",
     "text": [
      "Επαναλαμβάνεται η συνεδρίαση για να σας δώσω τα αποτελέσματα της δεύτερης ψηφοφορίας\n"
     ]
    },
    {
     "name": "stderr",
     "output_type": "stream",
     "text": [
      " 80%|██████████████████████████████████▍        | 16/20 [00:36<00:07,  1.79s/it]"
     ]
    },
    {
     "name": "stdout",
     "output_type": "stream",
     "text": [
      "Κύριε Πρόεδρε, η συνεδρίαση έχει επαναληφθεί. Ξεκινήστε και πάλι τη συνεδρίαση.\n"
     ]
    },
    {
     "name": "stderr",
     "output_type": "stream",
     "text": [
      " 85%|████████████████████████████████████▌      | 17/20 [00:40<00:06,  2.26s/it]"
     ]
    },
    {
     "name": "stdout",
     "output_type": "stream",
     "text": [
      "κατέθεσαν οι υποψήφιοι της κυρίας Eleonora Forenza, της κυρίας Jean Lambert, του κυρίου Jean Epitella, του κυρίου Laurentius Ribeiro, της κυρίας Helga Stevens, του κυρίου Antonio Tajani και του κυρίου Guy Verhofstadt\n"
     ]
    },
    {
     "name": "stderr",
     "output_type": "stream",
     "text": [
      " 90%|██████████████████████████████████████▋    | 18/20 [00:42<00:04,  2.36s/it]"
     ]
    },
    {
     "name": "stdout",
     "output_type": "stream",
     "text": [
      "να τιμήσουμε την πολιτική κληρονομιά του. Από την πλευρά του Ευρωπαϊκού Κοινοβουλίου, θα ήθελα να συγχαρώ την οικογένεια του Mario Soares, τους φίλους του και τους γνωστούς του.\n"
     ]
    },
    {
     "name": "stderr",
     "output_type": "stream",
     "text": [
      " 95%|████████████████████████████████████████▊  | 19/20 [00:43<00:01,  1.98s/it]"
     ]
    },
    {
     "name": "stdout",
     "output_type": "stream",
     "text": [
      "Σωστά. Σωστά.\n"
     ]
    },
    {
     "name": "stderr",
     "output_type": "stream",
     "text": [
      "100%|███████████████████████████████████████████| 20/20 [00:45<00:00,  2.30s/it]"
     ]
    },
    {
     "name": "stdout",
     "output_type": "stream",
     "text": [
      "Σπάνια βρίσκονται οι 750 βουλευτές εδώ. Θα πρέπει να φροντίσουμε να κυκλοφορήσει η διαδικασία χωρίς προβλήματα και με ασφάλεια.\n",
      "task took 46.25819730758667 seconds\n"
     ]
    },
    {
     "name": "stderr",
     "output_type": "stream",
     "text": [
      "\n"
     ]
    }
   ],
   "source": [
    "start_time = time.time()\n",
    "files = glob(\"/data/unlabelled_data/el/2017/*.ogg\")\n",
    "for i in tqdm(files[:20]):\n",
    "    text, _, _ = translator.predict(i, task_str=task, tgt_lang=lang)\n",
    "    print(text)\n",
    "print(f\"task took {time.time() - start_time} seconds\")"
   ]
  },
  {
   "cell_type": "code",
   "execution_count": 22,
   "id": "9d852e3d-f1e9-4033-937c-cfb1aa95078e",
   "metadata": {},
   "outputs": [],
   "source": [
    "all_files=glob(\"/data/unlabelled_data/el/*/*.ogg\")"
   ]
  },
  {
   "cell_type": "code",
   "execution_count": 23,
   "id": "bad1afae-0cdc-46cb-b0ed-3aa3e23b83a4",
   "metadata": {},
   "outputs": [
    {
     "data": {
      "text/plain": [
       "151113"
      ]
     },
     "execution_count": 23,
     "metadata": {},
     "output_type": "execute_result"
    }
   ],
   "source": [
    "len(all_files)"
   ]
  },
  {
   "cell_type": "code",
   "execution_count": null,
   "id": "65abf9b9-9d90-4ecd-85ad-34251e6d2450",
   "metadata": {},
   "outputs": [],
   "source": []
  }
 ],
 "metadata": {
  "kernelspec": {
   "display_name": "Python 3 (ipykernel)",
   "language": "python",
   "name": "python3"
  },
  "language_info": {
   "codemirror_mode": {
    "name": "ipython",
    "version": 3
   },
   "file_extension": ".py",
   "mimetype": "text/x-python",
   "name": "python",
   "nbconvert_exporter": "python",
   "pygments_lexer": "ipython3",
   "version": "3.10.9"
  }
 },
 "nbformat": 4,
 "nbformat_minor": 5
}
