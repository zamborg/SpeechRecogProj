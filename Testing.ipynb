{
 "cells": [
  {
   "cell_type": "code",
   "execution_count": 19,
   "id": "0fcb3ce5-9722-4239-8c77-0bd30c07a177",
   "metadata": {},
   "outputs": [],
   "source": [
    "import argparse\n",
    "# import logging\n",
    "import torch\n",
    "from glob import glob\n",
    "# import torchaudio\n",
    "# expects seamless_communication dir to exist\n",
    "from seamless_communication.models.inference import Translator\n",
    "import time\n",
    "from tqdm import tqdm"
   ]
  },
  {
   "cell_type": "code",
   "execution_count": 5,
   "id": "5daac541-dbca-42b1-b6bb-2630da478a41",
   "metadata": {},
   "outputs": [],
   "source": [
    "device = torch.device(\"cuda:0\")\n",
    "dtype = torch.float16"
   ]
  },
  {
   "cell_type": "code",
   "execution_count": 6,
   "id": "caa9fcfd-db1e-4d1a-a562-330f0b109c29",
   "metadata": {},
   "outputs": [
    {
     "name": "stderr",
     "output_type": "stream",
     "text": [
      "Using the cached checkpoint of the model 'seamlessM4T_large'. Set `force=True` to download again.\n",
      "Using the cached tokenizer of the model 'seamlessM4T_large'. Set `force=True` to download again.\n",
      "Using the cached checkpoint of the model 'vocoder_36langs'. Set `force=True` to download again.\n"
     ]
    }
   ],
   "source": [
    "translator = Translator(\"seamlessM4T_large\", \"vocoder_36langs\", device=device, dtype=dtype)"
   ]
  },
  {
   "cell_type": "code",
   "execution_count": null,
   "id": "235af4e3-0583-49bf-bd1d-f4cb10437652",
   "metadata": {},
   "outputs": [],
   "source": []
  },
  {
   "cell_type": "code",
   "execution_count": 15,
   "id": "0d656752-0533-4bd8-a924-b6fc578f93c1",
   "metadata": {},
   "outputs": [
    {
     "name": "stdout",
     "output_type": "stream",
     "text": [
      "task took 2.942699909210205 seconds\n"
     ]
    }
   ],
   "source": [
    "fp = \"/data/unlabelled_data/el/2017/20170116-0900-PLENARY-11_el_0.ogg\"\n",
    "lang = 'ell'\n",
    "task = \"s2tt\"\n",
    "start_time = time.time()\n",
    "translator.predict(input=fp, task_str=task, tgt_lang=lang)\n",
    "print(f\"task took {time.time() - start_time} seconds\")"
   ]
  },
  {
   "cell_type": "code",
   "execution_count": 20,
   "id": "8f641f83-5b9b-4dad-8afe-31b836146274",
   "metadata": {},
   "outputs": [
    {
     "name": "stderr",
     "output_type": "stream",
     "text": [
      "  5%|██▏                                         | 1/20 [00:01<00:31,  1.66s/it]"
     ]
    },
    {
     "name": "stdout",
     "output_type": "stream",
     "text": [
      "(Χειροκρότημα)\n"
     ]
    },
    {
     "name": "stderr",
     "output_type": "stream",
     "text": [
      " 10%|████▍                                       | 2/20 [00:05<00:50,  2.82s/it]"
     ]
    },
    {
     "name": "stdout",
     "output_type": "stream",
     "text": [
      "Μετά την παραίτηση της κ. Ιλιάνα Γιοτόβα, η οποία εκλέχθηκε αντιπρόεδρο της Βουλής της Βουλής, διαπιστώνουμε ότι η έδρα της είναι από 17 Ιανουαρίου 2017 και ενημερώνουμε τις αρμόδιες εθνικές αρχές. Οι αρμόδιες ισπανικές αρχές με ενημέρωσαν\n"
     ]
    },
    {
     "name": "stderr",
     "output_type": "stream",
     "text": [
      " 15%|██████▌                                     | 3/20 [00:07<00:46,  2.76s/it]"
     ]
    },
    {
     "name": "stdout",
     "output_type": "stream",
     "text": [
      "Η Επιτροπή Νομικών Θεμάτων και Δικαιωμάτων των Πολιτών εξέτασε τις διαπιστώσεις της κ. Alexei Maier και του κ. Timmermans και εξέτασε τις υποχρεώσεις τους από 15 Νοεμβρίου και 14 Νοεμβρίου\n"
     ]
    },
    {
     "name": "stderr",
     "output_type": "stream",
     "text": [
      " 20%|████████▊                                   | 4/20 [00:10<00:45,  2.83s/it]"
     ]
    },
    {
     "name": "stdout",
     "output_type": "stream",
     "text": [
      "Μας έστειλαν αίτηση ακύρωσης της βουλευτικής ασυλίας της κυρίας Μίλερ Τροσίνσκι, στο πλαίσιο μιας δικαστικής έρευνας, όπως και αίτηση ακύρωσης της ασυλίας του κ. Ζαν Μάρι Λεπέν.\n"
     ]
    },
    {
     "name": "stderr",
     "output_type": "stream",
     "text": [
      " 25%|███████████                                 | 5/20 [00:13<00:41,  2.75s/it]"
     ]
    },
    {
     "name": "stdout",
     "output_type": "stream",
     "text": [
      "Με μεγάλη θλίψη πληροφορήθηκα στις 7 Ιανουαρίου το θάνατο του κ. Soares, ο οποίος από το 1990 μέχρι το 2004 ήταν ευρωπαίος βουλευτής και ανήκε στην ομάδα των Σοσιαλιστών και Δημοκρατών.\n"
     ]
    },
    {
     "name": "stderr",
     "output_type": "stream",
     "text": [
      " 30%|█████████████▏                              | 6/20 [00:16<00:39,  2.81s/it]"
     ]
    },
    {
     "name": "stdout",
     "output_type": "stream",
     "text": [
      "Σύμφωνα με το άρθρο 14 παράγραφος 2 του κανονισμού, υπό την προεδρία του Προέδρου του Συμβουλίου δεν μπορεί να διεξαχθεί καμία συζήτηση η οποία δεν αφορά την εκλογή του Προέδρου ή την εξέταση των εντολών του.\n"
     ]
    },
    {
     "name": "stderr",
     "output_type": "stream",
     "text": [
      " 35%|███████████████▍                            | 7/20 [00:19<00:39,  3.05s/it]"
     ]
    },
    {
     "name": "stdout",
     "output_type": "stream",
     "text": [
      "Επίσης, με ενημέρωσαν για την εκλογή του κ. Χόρντι Ζολέ και την εκλογή των δύο συναδέλφων από τον 3ο Ιανουάριο του 2007, οι οποίοι αντικαθίστανται από τον κ. Βιντεγκάιν και τον κ. Μαράγκελ.\n"
     ]
    },
    {
     "name": "stderr",
     "output_type": "stream",
     "text": [
      " 40%|█████████████████▌                          | 8/20 [00:22<00:35,  2.97s/it]"
     ]
    },
    {
     "name": "stdout",
     "output_type": "stream",
     "text": [
      "Οι ελληνικές αρχές με ενημέρωσαν ότι η ποινική διαδικασία κατά του κυρίου Σωτήρη Ζαριάνοπουλου, για την οποία είχε αναληφθεί η ασυλία του, έχει πλέον ολοκληρωθεί και έχει τεθεί σε ισχύ.\n"
     ]
    },
    {
     "name": "stderr",
     "output_type": "stream",
     "text": [
      " 45%|███████████████████▊                        | 9/20 [00:25<00:32,  3.00s/it]"
     ]
    },
    {
     "name": "stdout",
     "output_type": "stream",
     "text": [
      "στη χώρα του ήταν μια ιστορική προσωπικότητα, ο Μάριο Σόουερς, ήταν σύμβουλος της αντιπολίτευσης κατά της δικτατορίας και οπωσδήποτε για τους Πορτογάλους και τους Ευρωπαίους συνολικά.\n"
     ]
    },
    {
     "name": "stderr",
     "output_type": "stream",
     "text": [
      " 50%|█████████████████████▌                     | 10/20 [00:27<00:24,  2.46s/it]"
     ]
    },
    {
     "name": "stdout",
     "output_type": "stream",
     "text": [
      "με τον Κανονισμό να προχωρήσουμε στην εκλογή του Προέδρου.\n"
     ]
    },
    {
     "name": "stderr",
     "output_type": "stream",
     "text": [
      " 55%|███████████████████████▋                   | 11/20 [00:28<00:18,  2.05s/it]"
     ]
    },
    {
     "name": "stdout",
     "output_type": "stream",
     "text": [
      "(Χειροκρότημα)\n"
     ]
    },
    {
     "name": "stderr",
     "output_type": "stream",
     "text": [
      " 60%|█████████████████████████▊                 | 12/20 [00:29<00:15,  1.92s/it]"
     ]
    },
    {
     "name": "stdout",
     "output_type": "stream",
     "text": [
      "με την κοινή γνώμη των υποψηφίων για την υποψηφιότητα ενός βουλευτή ή τουλάχιστον 38 βουλευτών.\n"
     ]
    },
    {
     "name": "stderr",
     "output_type": "stream",
     "text": [
      " 65%|███████████████████████████▉               | 13/20 [00:32<00:13,  1.99s/it]"
     ]
    },
    {
     "name": "stdout",
     "output_type": "stream",
     "text": [
      "αλλαγής στη χώρα του και ένα βασικό κίνητρο για την ένταξή της στην Ευρωπαϊκή Οικονομική Κοινότητα. Η Ευρώπη χάνει έναν μεγάλο πολιτικό άνδρα.\n"
     ]
    },
    {
     "name": "stderr",
     "output_type": "stream",
     "text": [
      " 70%|██████████████████████████████             | 14/20 [00:33<00:10,  1.75s/it]"
     ]
    },
    {
     "name": "stdout",
     "output_type": "stream",
     "text": [
      "(Χειροκρότημα)\n"
     ]
    },
    {
     "name": "stderr",
     "output_type": "stream",
     "text": [
      " 75%|████████████████████████████████▎          | 15/20 [00:35<00:08,  1.79s/it]"
     ]
    },
    {
     "name": "stdout",
     "output_type": "stream",
     "text": [
      "Επαναλαμβάνεται η συνεδρίαση για να σας δώσω τα αποτελέσματα της δεύτερης ψηφοφορίας\n"
     ]
    },
    {
     "name": "stderr",
     "output_type": "stream",
     "text": [
      " 80%|██████████████████████████████████▍        | 16/20 [00:36<00:07,  1.79s/it]"
     ]
    },
    {
     "name": "stdout",
     "output_type": "stream",
     "text": [
      "Κύριε Πρόεδρε, η συνεδρίαση έχει επαναληφθεί. Ξεκινήστε και πάλι τη συνεδρίαση.\n"
     ]
    },
    {
     "name": "stderr",
     "output_type": "stream",
     "text": [
      " 85%|████████████████████████████████████▌      | 17/20 [00:40<00:06,  2.26s/it]"
     ]
    },
    {
     "name": "stdout",
     "output_type": "stream",
     "text": [
      "κατέθεσαν οι υποψήφιοι της κυρίας Eleonora Forenza, της κυρίας Jean Lambert, του κυρίου Jean Epitella, του κυρίου Laurentius Ribeiro, της κυρίας Helga Stevens, του κυρίου Antonio Tajani και του κυρίου Guy Verhofstadt\n"
     ]
    },
    {
     "name": "stderr",
     "output_type": "stream",
     "text": [
      " 90%|██████████████████████████████████████▋    | 18/20 [00:42<00:04,  2.36s/it]"
     ]
    },
    {
     "name": "stdout",
     "output_type": "stream",
     "text": [
      "να τιμήσουμε την πολιτική κληρονομιά του. Από την πλευρά του Ευρωπαϊκού Κοινοβουλίου, θα ήθελα να συγχαρώ την οικογένεια του Mario Soares, τους φίλους του και τους γνωστούς του.\n"
     ]
    },
    {
     "name": "stderr",
     "output_type": "stream",
     "text": [
      " 95%|████████████████████████████████████████▊  | 19/20 [00:43<00:01,  1.98s/it]"
     ]
    },
    {
     "name": "stdout",
     "output_type": "stream",
     "text": [
      "Σωστά. Σωστά.\n"
     ]
    },
    {
     "name": "stderr",
     "output_type": "stream",
     "text": [
      "100%|███████████████████████████████████████████| 20/20 [00:45<00:00,  2.30s/it]"
     ]
    },
    {
     "name": "stdout",
     "output_type": "stream",
     "text": [
      "Σπάνια βρίσκονται οι 750 βουλευτές εδώ. Θα πρέπει να φροντίσουμε να κυκλοφορήσει η διαδικασία χωρίς προβλήματα και με ασφάλεια.\n",
      "task took 46.25819730758667 seconds\n"
     ]
    },
    {
     "name": "stderr",
     "output_type": "stream",
     "text": [
      "\n"
     ]
    }
   ],
   "source": [
    "start_time = time.time()\n",
    "files = glob(\"/data/unlabelled_data/el/2017/*.ogg\")\n",
    "for i in tqdm(files[:20]):\n",
    "    text, _, _ = translator.predict(i, task_str=task, tgt_lang=lang)\n",
    "    print(text)\n",
    "print(f\"task took {time.time() - start_time} seconds\")"
   ]
  },
  {
   "cell_type": "code",
   "execution_count": 22,
   "id": "9d852e3d-f1e9-4033-937c-cfb1aa95078e",
   "metadata": {},
   "outputs": [],
   "source": [
    "all_files=glob(\"/data/unlabelled_data/el/*/*.ogg\")"
   ]
  },
  {
   "cell_type": "code",
   "execution_count": 23,
   "id": "bad1afae-0cdc-46cb-b0ed-3aa3e23b83a4",
   "metadata": {},
   "outputs": [
    {
     "data": {
      "text/plain": [
       "151113"
      ]
     },
     "execution_count": 23,
     "metadata": {},
     "output_type": "execute_result"
    }
   ],
   "source": [
    "len(all_files)"
   ]
  },
  {
   "cell_type": "code",
   "execution_count": 27,
   "id": "65abf9b9-9d90-4ecd-85ad-34251e6d2450",
   "metadata": {},
   "outputs": [
    {
     "data": {
      "text/plain": [
       "device(type='cuda')"
      ]
     },
     "execution_count": 27,
     "metadata": {},
     "output_type": "execute_result"
    }
   ],
   "source": [
    "torch.device(\"cuda\")"
   ]
  },
  {
   "cell_type": "code",
   "execution_count": 36,
   "id": "5cd9b0b0-7ec5-4ceb-a527-fa79dcc169ad",
   "metadata": {},
   "outputs": [
    {
     "data": {
      "text/plain": [
       "True"
      ]
     },
     "execution_count": 36,
     "metadata": {},
     "output_type": "execute_result"
    }
   ],
   "source": [
    "torch.cuda.is_available()"
   ]
  },
  {
   "cell_type": "markdown",
   "id": "bb9f8b19-5e65-4e18-9e49-3041225f936c",
   "metadata": {},
   "source": [
    "# Seamless from huggingface"
   ]
  },
  {
   "cell_type": "code",
   "execution_count": 1,
   "id": "4dc18934-9f94-4e83-baf4-9d69d6fbd8e5",
   "metadata": {},
   "outputs": [],
   "source": [
    "from glob import glob\n",
    "import torch\n",
    "from tqdm import tqdm\n",
    "import time"
   ]
  },
  {
   "cell_type": "code",
   "execution_count": 2,
   "id": "f30fc502-e65e-4c8a-8613-e7562858c0c1",
   "metadata": {},
   "outputs": [
    {
     "name": "stderr",
     "output_type": "stream",
     "text": [
      "/opt/conda/lib/python3.10/site-packages/tqdm/auto.py:22: TqdmWarning: IProgress not found. Please update jupyter and ipywidgets. See https://ipywidgets.readthedocs.io/en/stable/user_install.html\n",
      "  from .autonotebook import tqdm as notebook_tqdm\n",
      "/opt/conda/lib/python3.10/site-packages/transformers/deepspeed.py:23: FutureWarning: transformers.deepspeed module is deprecated and will be removed in a future version. Please import deepspeed modules directly from transformers.integrations\n",
      "  warnings.warn(\n"
     ]
    }
   ],
   "source": [
    "from transformers import SeamlessM4TForSpeechToText"
   ]
  },
  {
   "cell_type": "code",
   "execution_count": 3,
   "id": "33b2aa83-d5f6-4453-8939-42bf24ea38f5",
   "metadata": {},
   "outputs": [],
   "source": [
    "model = SeamlessM4TForSpeechToText.from_pretrained(\"facebook/hf-seamless-m4t-large\")"
   ]
  },
  {
   "cell_type": "code",
   "execution_count": 4,
   "id": "ef6dc59c-a812-4e4e-854f-464681e8b8e1",
   "metadata": {},
   "outputs": [],
   "source": [
    "from transformers import AutoProcessor"
   ]
  },
  {
   "cell_type": "code",
   "execution_count": 13,
   "id": "363404e5-6f92-4246-a1c3-3438919e2d7f",
   "metadata": {},
   "outputs": [
    {
     "name": "stderr",
     "output_type": "stream",
     "text": [
      "Special tokens have been added in the vocabulary, make sure the associated word embeddings are fine-tuned or trained.\n",
      "Special tokens have been added in the vocabulary, make sure the associated word embeddings are fine-tuned or trained.\n"
     ]
    }
   ],
   "source": [
    "processor = AutoProcessor.from_pretrained(\"facebook/hf-seamless-m4t-large\")"
   ]
  },
  {
   "cell_type": "code",
   "execution_count": 6,
   "id": "8535459b-ff84-495b-852a-174ed021c402",
   "metadata": {},
   "outputs": [],
   "source": [
    "import torch"
   ]
  },
  {
   "cell_type": "code",
   "execution_count": 7,
   "id": "a6656609-d550-4d7b-8dc6-c02ca6eccdf2",
   "metadata": {},
   "outputs": [],
   "source": [
    "model = model.to(torch.device(\"cuda\"))"
   ]
  },
  {
   "cell_type": "code",
   "execution_count": 9,
   "id": "a4bfc8e7-dd9c-44a8-abd3-e72c4bafe150",
   "metadata": {},
   "outputs": [],
   "source": [
    "fp = \"/data/unlabelled_data/el/2017/20170116-0900-PLENARY-11_el_0.ogg\""
   ]
  },
  {
   "cell_type": "code",
   "execution_count": 5,
   "id": "baa29232-6f09-41ae-ab9a-bed2189dcd3a",
   "metadata": {},
   "outputs": [
    {
     "name": "stdout",
     "output_type": "stream",
     "text": [
      "There are 354144 files\n"
     ]
    }
   ],
   "source": [
    "all_files=glob(\"/data/unlabelled_data/el/*/*.ogg\")\n",
    "print(f\"There are {len(all_files)} files\")\n",
    "fps = all_files[:50]"
   ]
  },
  {
   "cell_type": "code",
   "execution_count": 6,
   "id": "f7793849-93f5-4a47-a22f-3068c6ea767c",
   "metadata": {},
   "outputs": [],
   "source": [
    "# custom dataset work:\n",
    "from datasets import load_dataset, Audio, Dataset\n",
    "\n",
    "audio_dataset = Dataset.from_dict({\"audio\": fps}).cast_column(\"audio\", Audio(sampling_rate=16000))"
   ]
  },
  {
   "cell_type": "markdown",
   "id": "5ff1eb4e-d09b-448c-911b-999e1054086a",
   "metadata": {},
   "source": [
    "batchsize=10\n",
    "for b in range(len(audio_dataset)//batchsize):\n",
    "    print(len(audio_dataset[b*batchsize:(b+1)*batchsize]))\n",
    "    "
   ]
  },
  {
   "cell_type": "markdown",
   "id": "33fe3af8-473d-4782-8842-ff32e0c11f64",
   "metadata": {},
   "source": [
    "for p in audio_dataset[0:10]['audio']:\n",
    "    print(len(p['array']))"
   ]
  },
  {
   "cell_type": "code",
   "execution_count": 7,
   "id": "3fb05cba-40e0-4b19-9ff5-7edd30d89f74",
   "metadata": {},
   "outputs": [],
   "source": [
    "audios = audio_dataset[0:10][\"audio\"]"
   ]
  },
  {
   "cell_type": "code",
   "execution_count": 8,
   "id": "1b3852ce-9c98-43b9-9904-86d169046153",
   "metadata": {},
   "outputs": [],
   "source": [
    "audios = [a['array'] for a in audio_dataset[0:5][\"audio\"]]"
   ]
  },
  {
   "cell_type": "code",
   "execution_count": 9,
   "id": "5fd3a4e7-7d5e-42c9-a250-13b24b29287a",
   "metadata": {},
   "outputs": [],
   "source": [
    "single_audio = next(iter(audio_dataset))['audio']['array']"
   ]
  },
  {
   "cell_type": "code",
   "execution_count": 10,
   "id": "29bdc8ed-b347-4c46-ab37-820ce7a43fd5",
   "metadata": {},
   "outputs": [
    {
     "ename": "NameError",
     "evalue": "name 'processor' is not defined",
     "output_type": "error",
     "traceback": [
      "\u001b[0;31m---------------------------------------------------------------------------\u001b[0m",
      "\u001b[0;31mNameError\u001b[0m                                 Traceback (most recent call last)",
      "Cell \u001b[0;32mIn[10], line 1\u001b[0m\n\u001b[0;32m----> 1\u001b[0m proc \u001b[38;5;241m=\u001b[39m \u001b[43mprocessor\u001b[49m(audios\u001b[38;5;241m=\u001b[39maudios, return_tensors\u001b[38;5;241m=\u001b[39m\u001b[38;5;124m'\u001b[39m\u001b[38;5;124mpt\u001b[39m\u001b[38;5;124m'\u001b[39m, tgt_lang\u001b[38;5;241m=\u001b[39m\u001b[38;5;124m'\u001b[39m\u001b[38;5;124mell\u001b[39m\u001b[38;5;124m'\u001b[39m, padding\u001b[38;5;241m=\u001b[39m\u001b[38;5;28;01mTrue\u001b[39;00m, truncate\u001b[38;5;241m=\u001b[39m\u001b[38;5;28;01mTrue\u001b[39;00m, sampling_rate\u001b[38;5;241m=\u001b[39m\u001b[38;5;241m16000\u001b[39m)\n\u001b[1;32m      2\u001b[0m \u001b[38;5;66;03m# proc = processor(audios=single_audio,  return_tensors='pt', tgt_lang='ell', padding=True, truncate=True, requires_grad=False)\u001b[39;00m\n",
      "\u001b[0;31mNameError\u001b[0m: name 'processor' is not defined"
     ]
    }
   ],
   "source": [
    "proc = processor(audios=audios, return_tensors='pt', tgt_lang='ell', padding=True, truncate=True, sampling_rate=16000)\n",
    "# proc = processor(audios=single_audio,  return_tensors='pt', tgt_lang='ell', padding=True, truncate=True, requires_grad=False)"
   ]
  },
  {
   "cell_type": "code",
   "execution_count": 64,
   "id": "31ee5a59-3a81-4bb1-a287-51e933932091",
   "metadata": {},
   "outputs": [
    {
     "data": {
      "text/plain": [
       "dict_keys(['input_features', 'attention_mask'])"
      ]
     },
     "execution_count": 64,
     "metadata": {},
     "output_type": "execute_result"
    }
   ],
   "source": [
    "proc.keys()"
   ]
  },
  {
   "cell_type": "code",
   "execution_count": 65,
   "id": "19fb64da-d2c9-4d90-ba4b-a18f3dadd1f9",
   "metadata": {},
   "outputs": [
    {
     "data": {
      "text/plain": [
       "torch.Size([5, 1499, 160])"
      ]
     },
     "execution_count": 65,
     "metadata": {},
     "output_type": "execute_result"
    }
   ],
   "source": [
    "proc['input_features'].shape"
   ]
  },
  {
   "cell_type": "code",
   "execution_count": 66,
   "id": "d10f9d6e-b292-4091-83ca-b06e166e9de0",
   "metadata": {},
   "outputs": [],
   "source": [
    "proc = proc.to('cuda')"
   ]
  },
  {
   "cell_type": "code",
   "execution_count": 69,
   "id": "f74e6635-efce-4429-b436-075894171f5c",
   "metadata": {},
   "outputs": [],
   "source": [
    "out = model.generate(input_features=proc['input_features'], tgt_lang='ell')"
   ]
  },
  {
   "cell_type": "code",
   "execution_count": 61,
   "id": "b4e34de1-cda5-490c-a042-db87e5842207",
   "metadata": {},
   "outputs": [
    {
     "data": {
      "text/plain": [
       "'βάσει του άρθρου 233 του κανονισμού και γίνεται αποδεκτή η τροποποίηση αυτή.'"
      ]
     },
     "execution_count": 61,
     "metadata": {},
     "output_type": "execute_result"
    }
   ],
   "source": [
    "processor.decode(out.tolist()[0], skip_special_tokens=True)"
   ]
  },
  {
   "cell_type": "code",
   "execution_count": 70,
   "id": "a459a0a3-f5a6-45fe-a1d0-39ec50757141",
   "metadata": {},
   "outputs": [
    {
     "data": {
      "text/plain": [
       "['βάσει του άρθρου 233 του κανονισμού και γίνεται αποδεκτή η τροποποίηση αυτή.',\n",
       " 'συνεδρίαση. Τώρα θα έρθουμε στο θέμα της συνεδρίασης για την επόμενη εβδομάδα, βάσει του άρθρου',\n",
       " 'πρότεινε το εξής και μάλιστα από τους συντονιστές της ομάδας της κ. Λουγκάου, για τις συμφωνίες σύνδεσης και σταθεροποίησης για το Κοσσυφοπέδιο και την δήλωση του Προέδρου για τις συνομιλίες',\n",
       " 'για τις συμφωνίες σύνδεσης με τη Γεωργία, τη Μολδαβία και την Ουκρανία και θα τις ολοκληρώσετε με την Ευρωπαϊκή Ένωση.',\n",
       " 'Κύριε Πρόεδρε, πριν δηλώσουμε την τάξη του χρόνου, θα ήθελα να πω το εξής στην σύνοδο των Προέδρων συζητήσαμε την προηγούμενη εβδομάδα την κατάσταση της Δανίας.']"
      ]
     },
     "execution_count": 70,
     "metadata": {},
     "output_type": "execute_result"
    }
   ],
   "source": [
    "processor.batch_decode(out, skip_special_tokens=True)"
   ]
  },
  {
   "cell_type": "code",
   "execution_count": 3,
   "id": "4fc08e32-ef3f-4c19-a29a-8d1e82f18650",
   "metadata": {},
   "outputs": [],
   "source": [
    "import time\n",
    "class TimeBlock:\n",
    "    def __init__(self, string=\"\"):\n",
    "        self.string = string\n",
    "        \n",
    "    def __enter__(self):\n",
    "        self.start_time = time.time()\n",
    "        return self\n",
    "\n",
    "    def __exit__(self, exc_type, exc_val, exc_tb):\n",
    "        self.end_time = time.time()\n",
    "        self.elapsed_time = self.end_time - self.start_time\n",
    "        print(f\"{self.string} executed in {self.elapsed_time:.4f} seconds\")"
   ]
  },
  {
   "cell_type": "code",
   "execution_count": 4,
   "id": "230d5a11-1037-41a9-a0b5-77505c571be5",
   "metadata": {},
   "outputs": [],
   "source": [
    "from glob import glob\n",
    "import torch\n",
    "from tqdm import tqdm\n",
    "import time\n",
    "from transformers import SeamlessM4TForSpeechToText, AutoProcessor\n",
    "from datasets import Audio, Dataset\n",
    "\n",
    "fp_subset = glob(\"/data/unlabelled_data/el/2009/*.ogg\")\n",
    "\n",
    "def load_model(model_name=\"facebook/hf-seamless-m4t-large\"):\n",
    "    model = SeamlessM4TForSpeechToText.from_pretrained(model_name)\n",
    "    model = model.to(torch.device(\"cuda\"))\n",
    "    processor = AutoProcessor.from_pretrained(model_name)\n",
    "    return model, processor\n",
    "\n",
    "def get_data(fps, n):\n",
    "    return Dataset.from_dict(\n",
    "        {\n",
    "            \"audio\" : fps[:n]\n",
    "        }\n",
    "    ).cast_column(\n",
    "        \"audio\", Audio(sampling_rate=16000) # hardcoded\n",
    "    )\n",
    "\n",
    "def batch_generator(dataset, batch_size):\n",
    "    for i in range(len(dataset)//batch_size):\n",
    "        arrays = [a['array'] for a in dataset[i*batch_size : (i+1)*batch_size][\"audio\"]]\n",
    "        yield arrays\n",
    "\n",
    "def decode(model, processor, arrays, tgt_lang='ell'):\n",
    "    with torch.no_grad():\n",
    "        inputs = processor(audios=arrays, return_tensors='pt', tgt_lang=tgt_lang, padding=True, truncate=True, requires_grad=False, sampling_rate=16000) # hardcoded sampling rate\n",
    "        inputs = inputs.to(torch.device(\"cuda\"))\n",
    "        out = model.generate(input_features=inputs['input_features'], tgt_lang=tgt_lang)\n",
    "        return processor.batch_decode(out, skip_special_tokens=True)\n",
    "\n",
    "def transcribe(n=100, bs=5):\n",
    "    with TimeBlock(\"Model loading\"):\n",
    "        model, processor = load_model() # default\n",
    "\n",
    "    with TimeBlock(f\"Data Getting for {n}\"):\n",
    "        data = get_data(fp_subset, n)\n",
    "\n",
    "    with TimeBlock(f\"Forward with batchsize: {bs}\"):\n",
    "        for batch in batch_generator(data, bs):\n",
    "            with TimeBlock(\"Batch\"):\n",
    "                print(decode(model, processor, batch, 'ell'))"
   ]
  },
  {
   "cell_type": "code",
   "execution_count": 5,
   "id": "db92b93d-9d45-48a5-b319-1389647bf2b1",
   "metadata": {},
   "outputs": [
    {
     "name": "stderr",
     "output_type": "stream",
     "text": [
      "Special tokens have been added in the vocabulary, make sure the associated word embeddings are fine-tuned or trained.\n",
      "Special tokens have been added in the vocabulary, make sure the associated word embeddings are fine-tuned or trained.\n"
     ]
    },
    {
     "name": "stdout",
     "output_type": "stream",
     "text": [
      "Model loading executed in 28.6006 seconds\n",
      "Data Getting for 100 executed in 0.0047 seconds\n",
      "['Κύριε Πρόεδρε, ξεκινάει η περίοδος συνόδου του Ευρωπαϊκού Κοινοβουλίου που είχε διακοπεί την Πέμπτη 18 Δεκεμβρίου 2008.', 'Να σας ευχηθώ καλή χρονική στιγμή για το 2009, που ελπίζω να μας βοηθήσει να προωθήσουμε την Ένωση και να προωθήσουμε την ειρήνη στον κόσμο.', 'για τα γεγονότα της', 'την ίδια ημέρα θα έρθει και αν δεν μπορέσει να μείνει για πολύ καιρό. Κυρίες και κύριοι, ενώ στην αρχή του 2009 εμείς θα συναντηθούμε με ανθρώπους που δεν είναι και δεν είναι και δεν είναι και δεν είναι και δεν είναι και δεν είναι και δεν είναι και δεν είναι και δεν είναι και δεν είναι και δεν είναι.', 'είναι το αίσθημα ότι είναι πράγματα που έχουμε ξαναδεί.']\n",
      "Batch executed in 7.1322 seconds\n",
      "['πρέπει να κλιμακωθεί μέχρι να μπορέσει να κυριαρχήσει η λογική. Πρέπει να σταματήσουν οι βιαιότητες και να', 'την κατάσταση της χώρας. Ωστόσο, όσον αφορά την αντίδραση αυτή, δεν πρέπει να είναι ασυμβίβαστη με την κοινή', 'όπως και του Ισραηλινού, του Ευρωπαίου ή του Αμερικανού.', 'σε καθαρούς στρατιωτικούς όρους δεν μπορεί να είναι αρκετός.', 'Και πρέπει οι νέες προσπάθειες να είναι διαρκείς.']\n",
      "Batch executed in 5.4727 seconds\n",
      "['κοινοβουλευτικής συνεργασίας, διότι έχω και την Προεδρία της Ευρωκοινοβουλίας και είμαι πολύ ευχαριστημένος με την παρουσία της.', 'υποστηρίζει απόλυτα τις αξίες που διατυπώθηκαν από το Συμβούλιο των Υπουργών και τις οποίες περιλαμβάνονται στην απόφαση του Συμβουλίου των Υπουργών της 8ης Ιανουαρίου', 'το ψήφισμα.', 'βοήθεια και ο οργανισμός UNRWA να μπορέσει να ενεργοποιηθεί και όχι μόνο για τρεις μήνες, γιατί ακόμη και οι ανθρωπιστικές οργανώσεις και οι οργανώσεις των Ηνωμένων Εθνών έχουν φτάσει σε ένα σημείο που δεν μπορούν να σταματήσουν τις δραστηριότητες τους.', 'Τρίτη, η εμβάθυνση της ειρηνευτικής διαδικασίας.']\n",
      "Batch executed in 6.3612 seconds\n",
      "['πρέπει να συμβάλει σε μια επιτυχημένη προσπάθεια', 'ότι βρισκόμαστε σε μια λογική της διαπραγμάτευσης και ότι η διεθνής κοινότητα και η Ευρωπαϊκή Ένωση θα παρακολουθήσουν και θα υποστηρίξουν με χρηματοδότηση την προσπάθεια αυτή.', 'Αυτή η δέσμευση ήταν επαρκής για να αναρωτηθούμε εν τω μεταξύ, η λογική αυτή έχει αντικατασταθεί από μια κλιμάκωση της βίας και αναγκάζει όλους να σκεφτούν βραχυπρόθεσμα.', 'δεκαετίες μας διδάσκουν ότι η ειρήνη δεν μπορεί να προκύψει μόνο με τις ίδιες τις προσπάθειες της χώρας.', 'διεθνείς δυνάμεις μπορούν και πρέπει να συμβάλουν στην επίτευξη της']\n",
      "Batch executed in 6.1577 seconds\n",
      "['Η διεθνής κοινότητα δεν μπορεί να ζητήσει και να εξασφαλίσει μόνο βραχυπρόθεσμα την αναδιάρθρωση της Ευρώπης.', 'θα μπορέσει να εξασφαλίσει μια βάση για την αποκατάσταση της ειρήνης.', 'Θυμήσου ότι το 2008 υπήρξε η πρώτη χρονιά της διακυβέρνησης της Ευρώπης.', 'δείχνουν όμως τα γεγονότα στη Γάζα πόσο γρήγορα μπορούν να καταστραφούν οι κακές ιδέες που προωθούμε.', 'Μόνο ο διάλογος και οι διαπραγματεύσεις μπορούν να αποτελέσουν διέξοδο από την κρίση.']\n",
      "Batch executed in 5.5211 seconds\n",
      "['Όχι, δεν νομίζω ότι είναι δυνατόν. Οι αρμόδιες αρχές της Ρουμανίας μου ανακοίνωσαν ότι οι βουλευτές Anastasiou, Corlatian, Philippe Jacob Rizzi, Nesi For Prea και Poppa', 'ο Πρόεδρος είπε λάθος του Ρομά και τώρα το διορθώνει.', 'Φέτος το 2008, ο κ. Αντώνης Αντώνης αντιπροσώπευε την κ. Αναστασιάδη, τον κ. Ματθούλα, τον κ. Καλλιόπουλο, τον κ. Καρλίντ, τον κ. Παπαδάκη, τον κ. Αλέξανδρο Ναζάρη, τον κ. Φίλιπ και τον κ. Ντάνιελ Πέτρο Φουνερίου.', 'Οι αρμόδιες αρχές της Φινλανδίας μου ανακοινώνουν ότι η κ. Εύαρη Τσίτονε κατέχει την έδρα της Ελληνικής Δημοκρατίας από την 1η Ιανουαρίου 2009 και είναι μέλος του Ευρωπαϊκού Κοινοβουλίου.', 'πλήρωσαν τα δικαιώματά τους υπό την προϋπόθεση ότι θα καταθέσουν γραπτή δήλωση σχετικά με τη μη τήρηση των υποχρεώσεων που υπέχει από την Ομάδα του Ευρωπαϊκού Λαϊκού Κόμματος.']\n",
      "Batch executed in 7.6408 seconds\n",
      "['8 Ιανουαρίου 2009 και σύμφωνα με το άρθρο 42 του κανονισμού 45/2001 του Ευρωπαϊκού Κοινοβουλίου και του Συμβουλίου και μετά από διαβουλεύσεις της Επιτροπής, η Επιτροπή έλαβε την απόφαση να αναθέσει στον κ. Peter Hahn την άσκηση του καθήκοντος του αντιπροσώπου του.', 'Υπουργών και θα υπογράψω προσωπικά την Τετάρτη μαζί με τον Πρόεδρο του Συμβουλίου την απόφαση.', 'Θα υπογράψω έξι νομοθετικές πράξεις που θα έχουν ως στόχο την εφαρμογή της διαδικασίας και θα τις βάζω σε εφαρμογή.', 'την 8η Ιανουαρίου, από την Επιτροπή των Προέδρων.', 'την Τετάρτη και θα ψηφίσει την Πέμπτη.']\n",
      "Batch executed in 6.3175 seconds\n",
      "['Κυρία Πρόεδρε, σας παρακαλώ να μην παραλείψετε να', 'Κυρία Πρόεδρε, η Επιτροπή, η οποία είστε μέλος, επανειλημμένα έχει ανακοινώσει το πρόγραμμα για την αστική κινητικότητα, το οποίο θα πρέπει να υποβληθεί από τον περασμένο Οκτώβριο στο Συμβούλιο.', 'στο πρόγραμμα δράσης για τις υποδομές και τις μεταφορές', 'Κυρία Πρόεδρε, μπορείτε να με διαβεβαιώσετε ότι θα είναι στη διάθεση σας για να ολοκληρώσει τις εργασίες της.', 'εμφανίζεται και ο οποίος πάντα θα βλέπει την τοπική κυριαρχία της χώρας και του κράτους.']\n",
      "Batch executed in 6.2358 seconds\n",
      "['Αδυναμία της Επιτροπής να βοηθήσει τις μεταφορές ούτε να αντιμετωπίσει την αβεβαιότητα των πολιτών.', 'τους, η κινητικότητα των πολιτών εξαρτάται από τις πολιτικές τους.', 'δηλαδή προδιαγραφές, στόχους, ομοιότητες, σωστές πρακτικές, συντονισμό των μέσων, αξιοπιστία, στατιστικές, δεν είναι αυτός ο χώρος που θα βοηθήσει την Επιτροπή να είναι πιο αποτελεσματική και να έχει το δικαίωμα να είναι η μόνη που μπορεί να είναι περήφανη.', 'της καθυστέρησης που αγγίζει τα όρια της αμελείας για την αστική κινητικότητα.', 'Η Επιτροπή μήπως έχει γίνει τόσο συνετή ώστε να αρνείται να αντιμετωπίσει τα προβλήματα των ευρωπαϊκών λαών, ώστε να μην ενοχλήσει τα κράτη μέλη; Αυτοκτονική μου, μετά από την εξαιρετική εξάμηνη της γαλλικής προεδρίας, ήταν ένα λαμπρό παράδειγμα.']\n",
      "Batch executed in 6.6631 seconds\n",
      "['Το μικρό παράδειγμα του προγράμματος για την αστική και την περιφερειακή ανάπτυξη μπορεί να δώσει ένα παράδειγμα για την αντιμετώπιση του ευρύτερου προβλήματος.', 'για να επιτελέσει στην Ιαπωνία.', 'Κύριε Πρόεδρε, επιτρέψτε μου να ενημερώσω το σώμα για την προκλητική συμπεριφορά της Τουρκίας κατά της Ελλάδας οι συνεχείς παραβιάσεις και παραβιάσεις του ελληνικού εναέριου χώρου, οι χαμηλές υπεραπτήσεις μαχητικών αεροσκαφών πάνω από κατοικημένα ελληνικά νησιά, η παρεμπόδιση της ασφαλούς ναυτιλίας και η', 'ευρωπαϊκό επίπεδο. Παρά το γεγονός ότι η κάθε πόλη έχει τις δικές της ιδιαιτερότητες, όλοι έχουν τις κοινές', 'και οι οχλήσεις στην έρευνα και διάσωση στην ίδια θαλάσσια περιοχή του Αιγαίου, που αποτελεί αποκλειστική ευθύνη της Ελλάδας, αλλά και η εκτεταμένη προώθηση λαθρομετανάστευσης εκ μέρους της Τουρκίας, αποτελούν διωκτικά στοιχεία για τη σταθερότητα στην ευρύτερη περιοχή.']\n",
      "Batch executed in 7.3301 seconds\n",
      "['Για να καταλάβω πόσο σημαντική είναι η κινητικότητα, θα σας πω μερικά πράγματα. Έχουμε 60 του πληθυσμού που μένει σε αστικές περιοχές.', 'της αμφισβήτησης των κυριαρχικών δικαιωμάτων χώρας μέλους της Ένωσης της Ελλάδας εκ μέρους της Τουρκίας και να στείλουμε το σαφές μήνυμα ότι η συμπεριφορά της την απομακρύνει από την ευρωπαϊκή προοπτική.', 'Κύριε Πρόεδρε, κύριε Πρόεδρε, κύριε Πρόεδρε, κύριε Πρόεδρε, κύριε Πρόεδρε, κύριε Πρόεδρε, κύριε Πρόεδρε, κύριε Πρόεδρε, κύριε Πρόεδρε, κύριε Πρόεδρε, κύριε Πρόεδρε, κύριε Πρόεδρε, κύριε Πρόεδρε, κύριε Πρόεδρε, κύριε Πρόεδρε, κύριε Πρόεδρε.', 'Τέλος, οι διαρθρωτικές μεταρρυθμίσεις είναι ένα βασικό πρόβλημα που αντιμετωπίζουν οι πολίτες κάθε μέρα και η διαρθρωτική μεταρρύθμιση οφείλεται στην απώλεια του 1 του ΑΕΠ.', 'Για τα διακριτικά μέτρα που τέθηκαν το 2004 που επηρεάζουν το προσωπικό των ευρωπαϊκών θεσμικών οργάνων και προέρχονται από τα νέα κράτη μέλη, μέτρα που θεωρήθηκαν από το Δικαστήριο ως παράνομα.']\n",
      "Batch executed in 7.5354 seconds\n",
      "['από το 1995 και έτσι θέλουμε να έχουμε μια ανταλλαγή των γνώσεων και να έχουμε το πολύ αξιόλογο πρόγραμμα Cedefop που θα ξεκινήσει το 2007 και θα έχει ένα πράσινο βιβλίο που θα είναι ο δρόμος για την κινητικότητα και για την κοινωνική αειφορία.', 'δεύτερης κατηγορίας. Τι έγινε, κύριε Πρόεδρε;', 'κοινωνίας πιο εύκολα.', 'Αναφέρεται σωστά στην ουγγρική γλώσσα. Είχαμε δύο υποψηφίους, έναν με μητρική γλώσσα και έναν με μητρική γλώσσα.', 'να έχουμε πιο περιβαλλοντικά αυτοκίνητα, να έχουμε καλύτερες συνθήκες για τις νέες τεχνολογίες, να έχουμε πιο αποτελεσματικές υπηρεσίες και να έχουμε πιο αποτελεσματικές λύσεις.']\n",
      "Batch executed in 6.5218 seconds\n",
      "['Θα ήθελα να διαμαρτυρηθώ κατά των αποφάσεων.', 'να δούμε αν σε ένα επίπεδο προσπαθούμε και έτσι σε κάθε επίπεδο να πάρουμε πρωτοβουλία. Τώρα, αυτό που ζητάτε είναι να ληφθεί η πρωτοβουλία και να γίνει αυτό που ζητάτε.', 'Το απόγευμα ακούσαμε εσάς και άλλους να κάνετε δηλώσεις για την άμεση κατάρρευση του πυρός και την απόσυρση των ισραηλινών στρατιωτικών δυνάμεων από τη Γάζα.', 'ότι είναι πραγματική δέσμευση του όσον αφορά αυτό το πρόγραμμα και ότι θα υπάρχει ένα πρόγραμμα για τις μεταφορές στην πόλη σύμφωνα με την αναλογικότητα αλλά και με την αποτελεσματικότητα, γιατί δεν θα υπάρχει ένα σχέδιο για να υπάρξει ένα σχέδιο για το οποίο θα έχουμε την πλήρη ευθύνη.', 'Ανακοινώθηκε από την Dell ότι οι 2000 θέσεις εργασίας θα μεταφερθούν και αυτό θα επηρεάσει την κοινότητα.']\n",
      "Batch executed in 6.4576 seconds\n",
      "['διάφορα όπλα που θα διαθέσουμε ωστόσο για να αντιμετωπίσουμε όλα τα προβλήματα της πόλης και να λύσουμε το πρόβλημα της κινητικότητας, αλλά τελικά οι τοπικές αρχές θα αποφασίσουν τι είναι πιο σωστό για τους ίδιους τους στόχους και για τις ανάγκες τους.', 'παγκοσμιοποίηση, να έχουν κάποια εμπιστοσύνη στο μέλλον και να δουν ότι η Ευρώπη είναι έτοιμη να βοηθήσει τους εργαζόμενους σε αυτή την περίπτωση.', 'να προχωρήσει σε συγκεκριμένες ενέργειες ώστε να έχουμε περισσότερη ευελιξία στην Ευρώπη, σε συνέχεια των πράξεων που έχουν γίνει και των διαπραγματεύσεων που έχουν γίνει με τους συμμετέχοντες, και να αποφασιστεί ποια είναι η λύση.', 'Μετά την έγκριση της συμφωνίας, η αποστολή του ρωσικού φυσικού αερίου στα κράτη μέλη της ΕΕ φαίνεται να είναι συνηθισμένη, αλλά πού είναι το φυσικό αέριο;', 'αντίθεση, διότι πολλά κράτη μέλη έχουν ακολουθήσει διαφορετική πολιτική και στο τέλος αποφασίσαμε να ακολουθήσουμε μια κοινή πολιτική.']\n",
      "Batch executed in 6.2729 seconds\n",
      "['τέλος Μαρτίου, η κάλυψη των προγραμμάτων που θα είναι πιο επιλέξιμα και, μόλις η σχετική οδηγία τεθεί σε ισχύ, θα αρχίσει να ισχύει για τα περισσότερα κράτη μέλη.', 'Κύριε Πρόεδρε, αξιότιμοι συνάδελφοι, γνωρίζουμε ότι η Coca Cola και οι πατάτες είναι κακός για την υγεία μας και για το περιβάλλον μας, γνωρίζουμε ότι και άλλα προϊόντα είναι προβληματικά, αλλά δεν είναι και αυτά.', 'Οδηγία για την ενημέρωση και την ανταλλαγή πληροφοριών για την εφαρμογή των κανόνων και των κανόνων που αφορούν την προστασία των καταναλωτών', 'Αρχίζουν να μην συμμετέχουν πλέον στην παραγωγή κρασιού.', 'Θα έχουμε κάποιες πράσινες ζώνες και θα μπορούμε να δούμε τι ευκαιρίες υπάρχουν για να γίνουν οι δημόσιες μεταφορές πιο λειτουργικές.']\n",
      "Batch executed in 6.3669 seconds\n",
      "['Λοιπόν για την περιοχή των Καρπαθίων πρέπει να προσέξουμε να καταστρέφεται η παραγωγή του κρασιού σε αυτή την περιοχή. Οι Ουγγαροί πιστεύουν στην καλή υγεία και το καλό κρασί.', 'να προχωρήσουμε όσον αφορά την κινητικότητα της πόλης και τώρα να ακούσουμε τους αγρότες των πολιτικών ομάδων και να ξεκινήσουμε με την Ευρωπαϊκή Ένωση.', '900 είναι νεκροί, ένας τρίτος από αυτούς είναι παιδιά και δεν μπορούμε να βρούμε την ευκαιρία να καταδικάσουμε την αδικία του Ισραήλ.', 'κάτι που αναφέρεται ήδη στην Πράσινη Βίβλο για την αστική κινητικότητα, ότι δηλαδή χρειαζόμαστε κοινές ευρωπαϊκές λύσεις για ένα πρόβλημα που αντιμετωπίζουμε σχεδόν όλοι οι Ευρωπαίοι πολίτες.', 'δεν είναι οι ανάγκες του Ισραήλ που οδηγούν σε αυτή την απόφαση. Είναι μια κλινική επίθεση, όχι εναντίον μας, αλλά εναντίον του λαού της Παλαιστίνης.']\n",
      "Batch executed in 5.9266 seconds\n",
      "['διαφορετικά ή με πολύ παρόμοιο τρόπο. Αυτό το είχαμε χαιρετίσει ήδη πριν από λίγους μήνες και οι προτάσεις της Επιτροπής μας είχαν ενθαρρύνει να τις', 'να ασκήσουν διπλωματική και πολιτική πίεση στον Ισραήλ για να σταματήσει η βία.', 'Με το να μην προσβάλλετε κάποιο κράτος μέλος θα επαναλαμβάνεται μόνο όταν έχετε υποβάλει τις κατάλληλες προτάσεις.', 'Παρόμοια, θα πρέπει να αντισταθούμε σε κάθε προσπάθεια να αναβαθμιστούν οι σχέσεις μεταξύ της ΕΕ και του Ισραήλ, που είναι πολύτιμες και βίαιες.', 'αστικές μεταφορές και τους στόχους για την ανάπτυξη της πόλης. Η Ευρωπαϊκή Ένωση δεν μπορεί να μείνει αδιάφορη για τις αστικές μεταφορές.']\n",
      "Batch executed in 5.8709 seconds\n",
      "['Ευχαριστώ και από τον χρόνο που είχατε για να το αναφέρω, που ήταν το διπλό του λεπτού, φαίνεται ότι είναι δύσκολο να τα καταφέρουμε.', 'Από τους συναδέλφους και ιδιαίτερα από τον κ. Ντάρακ, ο οποίος καθάρισε το έδαφος, το Ευρωπαϊκό Κοινοβούλιο θεωρεί ότι είναι εξαιρετικά σημαντικό να υπάρχει μια διαδικασία που θα έχει τη δυνατότητα να εφαρμόζεται πριν από τις εκλογές.', 'Η εκλογική μου περιφέρεια, ξέρετε, έχει πληγεί από την απώλεια 2 000 θέσεων εργασίας σε εργοστάσια και αυτό σημαίνει ότι θα χάσουμε και άλλα 2 000 που εξαρτώνται από την ΔΕΛ.', 'μεταφορική υπηρεσία και θα βαρύνει πάρα πολύ την Ευρωπαϊκή Ένωση. Θα πρέπει να πούμε ότι σήμερα η Ευρωπαϊκή Επιτροπή υπογράφει την ελάχιστη αντίθεση της για την έλλειψη θεσμικής εξουσίας και της εξουσίας', 'αυτές τις προτάσεις, και μπορεί να μου πει η Επιτροπή ότι θα δοθούν τα μέσα για να αντιμετωπιστεί η παγκοσμιοποίηση και η έλλειψη θέσεων εργασίας σε ορισμένα κράτη μέλη.']\n",
      "Batch executed in 6.2439 seconds\n",
      "['να μας δώσουν ένα πρόγραμμα δράσης και να επιμείνουμε στο να δεσμευτούμε για το μέλλον που θα δώσει η Ευρώπη.', 'Κυρίες και κύριοι, δύο μέρες πριν, τέσσερις σχολές στο Βερολίνο αντιμετώπισαν συντριβές που είχαν σαν αποτέλεσμα να τους καταδικάσουν σε θάνατο.', 'Παρέβαλαν την ευκαιρία να αναλάβουν το θέμα ή να κάνουν ένα τεράστιο βήμα προς τα εμπρός.', 'Το ίδιο το λόγο και ο πρώην υπουργός Γεωργίας.', 'σε θέση να δημοσιεύσετε το πρόγραμμα δράσης με όλες τις συνιστώσες.']\n",
      "Batch executed in 5.8130 seconds\n",
      "['έδωσε ο κ. Barroso, στο πλαίσιο του Πράσινου Βιβλίου, μας άφησε να πιστέψουμε ότι έχει πάρα πολλές τεχνικές πληροφορίες στη διάθεσή της.', 'Εθνική φιλελευθερία. Εμείς ήμασταν εναντίον αυτών των τάσεων και νομίζω ότι πρέπει να καταβάλουμε κάθε προσπάθεια για να αντιμετωπίσουμε τον ρατσισμό και την ξενοφοβία.', 'Οι συνθήκες δεν πληρούνται, μας είπαν ότι ακόμα και στο πλαίσιο της Επιτροπής υπάρχουν αποκλεισμοί που σας εμποδίζουν να υποβάλετε αυτό το πρόγραμμα δράσης.', 'Η αιτία της κρίσης δεν είναι η Ουκρανία αλλά η Ελλάδα, η οποία δεν μπορεί να ανταποκριθεί στις υποχρεώσεις της.', 'να στηρίξει τις σχέσεις μας με τον αντιπρόεδρο Μπάρο, κατά τη διάρκεια της συζήτησης για το Πράσινο Βιβλίο, δεν τολμώ να το πιστέψω.']\n",
      "Batch executed in 5.9768 seconds\n",
      "Forward with batchsize: 5 executed in 130.5228 seconds\n"
     ]
    }
   ],
   "source": [
    "transcribe()"
   ]
  },
  {
   "cell_type": "code",
   "execution_count": 6,
   "id": "ae768b18-27ba-4fb6-ba11-70d19bbcec7d",
   "metadata": {},
   "outputs": [
    {
     "name": "stdout",
     "output_type": "stream",
     "text": [
      "Python 3.10.9\n"
     ]
    }
   ],
   "source": [
    "!python --version"
   ]
  },
  {
   "cell_type": "code",
   "execution_count": null,
   "id": "a78f5001-85f0-430a-a82d-084daf5908d2",
   "metadata": {},
   "outputs": [],
   "source": []
  }
 ],
 "metadata": {
  "kernelspec": {
   "display_name": "Python 3 (ipykernel)",
   "language": "python",
   "name": "python3"
  },
  "language_info": {
   "codemirror_mode": {
    "name": "ipython",
    "version": 3
   },
   "file_extension": ".py",
   "mimetype": "text/x-python",
   "name": "python",
   "nbconvert_exporter": "python",
   "pygments_lexer": "ipython3",
   "version": "3.10.9"
  }
 },
 "nbformat": 4,
 "nbformat_minor": 5
}
